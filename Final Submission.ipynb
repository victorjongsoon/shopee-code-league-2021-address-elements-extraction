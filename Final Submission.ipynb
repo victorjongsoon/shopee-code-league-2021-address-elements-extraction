{
 "cells": [
  {
   "cell_type": "markdown",
   "metadata": {},
   "source": [
    "# Import Library"
   ]
  },
  {
   "cell_type": "code",
   "execution_count": 1,
   "metadata": {},
   "outputs": [],
   "source": [
    "import numpy as np\n",
    "import pandas as pd\n",
    "\n",
    "import spacy\n",
    "from spacy.util import minibatch, compounding\n",
    "import random\n",
    "from pathlib import Path"
   ]
  },
  {
   "cell_type": "markdown",
   "metadata": {},
   "source": [
    "# Data Pre-Processing"
   ]
  },
  {
   "cell_type": "code",
   "execution_count": 2,
   "metadata": {},
   "outputs": [],
   "source": [
    "# read file\n",
    "df = pd.read_csv(\"train.csv\")"
   ]
  },
  {
   "cell_type": "code",
   "execution_count": 3,
   "metadata": {},
   "outputs": [],
   "source": [
    "# split via /\n",
    "df[['POI','street']] = df['POI/street'].str.split('/',expand=True)"
   ]
  },
  {
   "cell_type": "code",
   "execution_count": 4,
   "metadata": {},
   "outputs": [
    {
     "data": {
      "text/html": [
       "<div>\n",
       "<style scoped>\n",
       "    .dataframe tbody tr th:only-of-type {\n",
       "        vertical-align: middle;\n",
       "    }\n",
       "\n",
       "    .dataframe tbody tr th {\n",
       "        vertical-align: top;\n",
       "    }\n",
       "\n",
       "    .dataframe thead th {\n",
       "        text-align: right;\n",
       "    }\n",
       "</style>\n",
       "<table border=\"1\" class=\"dataframe\">\n",
       "  <thead>\n",
       "    <tr style=\"text-align: right;\">\n",
       "      <th></th>\n",
       "      <th>id</th>\n",
       "      <th>raw_address</th>\n",
       "      <th>POI/street</th>\n",
       "      <th>POI</th>\n",
       "      <th>street</th>\n",
       "    </tr>\n",
       "  </thead>\n",
       "  <tbody>\n",
       "    <tr>\n",
       "      <th>0</th>\n",
       "      <td>0</td>\n",
       "      <td>jl kapuk timur delta sili iii lippo cika 11 a ...</td>\n",
       "      <td>/jl kapuk timur delta sili iii lippo cika</td>\n",
       "      <td></td>\n",
       "      <td>jl kapuk timur delta sili iii lippo cika</td>\n",
       "    </tr>\n",
       "    <tr>\n",
       "      <th>1</th>\n",
       "      <td>1</td>\n",
       "      <td>aye, jati sampurna</td>\n",
       "      <td>/</td>\n",
       "      <td></td>\n",
       "      <td></td>\n",
       "    </tr>\n",
       "    <tr>\n",
       "      <th>2</th>\n",
       "      <td>2</td>\n",
       "      <td>setu siung 119 rt 5 1 13880 cipayung</td>\n",
       "      <td>/siung</td>\n",
       "      <td></td>\n",
       "      <td>siung</td>\n",
       "    </tr>\n",
       "    <tr>\n",
       "      <th>3</th>\n",
       "      <td>3</td>\n",
       "      <td>toko dita, kertosono</td>\n",
       "      <td>toko dita/</td>\n",
       "      <td>toko dita</td>\n",
       "      <td></td>\n",
       "    </tr>\n",
       "    <tr>\n",
       "      <th>4</th>\n",
       "      <td>4</td>\n",
       "      <td>jl. orde baru</td>\n",
       "      <td>/jl. orde baru</td>\n",
       "      <td></td>\n",
       "      <td>jl. orde baru</td>\n",
       "    </tr>\n",
       "  </tbody>\n",
       "</table>\n",
       "</div>"
      ],
      "text/plain": [
       "   id                                        raw_address  \\\n",
       "0   0  jl kapuk timur delta sili iii lippo cika 11 a ...   \n",
       "1   1                                 aye, jati sampurna   \n",
       "2   2               setu siung 119 rt 5 1 13880 cipayung   \n",
       "3   3                               toko dita, kertosono   \n",
       "4   4                                      jl. orde baru   \n",
       "\n",
       "                                  POI/street        POI  \\\n",
       "0  /jl kapuk timur delta sili iii lippo cika              \n",
       "1                                          /              \n",
       "2                                     /siung              \n",
       "3                                 toko dita/  toko dita   \n",
       "4                             /jl. orde baru              \n",
       "\n",
       "                                     street  \n",
       "0  jl kapuk timur delta sili iii lippo cika  \n",
       "1                                            \n",
       "2                                     siung  \n",
       "3                                            \n",
       "4                             jl. orde baru  "
      ]
     },
     "execution_count": 4,
     "metadata": {},
     "output_type": "execute_result"
    }
   ],
   "source": [
    "df.head()"
   ]
  },
  {
   "cell_type": "code",
   "execution_count": 5,
   "metadata": {},
   "outputs": [],
   "source": [
    "# Make the data into a format where it can be passed into spacy for training\n",
    "df_copy = df.copy()\n",
    "training_data = []\n",
    "\n",
    "for i in df_copy.index:\n",
    "    #entities = []\n",
    "    if i < len(df_copy):\n",
    "        raw_address = df_copy['raw_address'][i]\n",
    "        label_street = 'street'\n",
    "        label_POI = 'POI'\n",
    "        \n",
    "        if df_copy['street'][i] != '' and df_copy['street'][i] is not None:\n",
    "            start_index_street = raw_address.find(df_copy['street'][i])\n",
    "            end_index_street = start_index_street + len(df_copy['street'][i])\n",
    "        else:\n",
    "            start_index_street = 0\n",
    "            end_index_street = 0\n",
    "        \n",
    "        if df_copy['POI'][i] != '' and df_copy['POI'][i] is not None:\n",
    "            start_index_POI = raw_address.find(df_copy['POI'][i])\n",
    "            end_index_POI = start_index_POI + len(df_copy['POI'][i])\n",
    "        else:\n",
    "            start_index_POI = 0\n",
    "            end_index_POI = 0\n",
    "        \n",
    "        entity = [(start_index_POI, end_index_POI, label_POI), (start_index_street, end_index_street, label_street)]\n",
    "        \n",
    " \n",
    "        \n",
    "        #print (df_copy['street'][i])\n",
    "        #entities.append(entity)\n",
    "        training_data.append((raw_address, {'entities': entity}))"
   ]
  },
  {
   "cell_type": "code",
   "execution_count": 6,
   "metadata": {},
   "outputs": [
    {
     "data": {
      "text/plain": [
       "[('jl kapuk timur delta sili iii lippo cika 11 a cicau cikarang pusat',\n",
       "  {'entities': [(0, 0, 'POI'), (0, 40, 'street')]}),\n",
       " ('aye, jati sampurna', {'entities': [(0, 0, 'POI'), (0, 0, 'street')]}),\n",
       " ('setu siung 119 rt 5 1 13880 cipayung',\n",
       "  {'entities': [(0, 0, 'POI'), (5, 10, 'street')]}),\n",
       " ('toko dita, kertosono', {'entities': [(0, 9, 'POI'), (0, 0, 'street')]}),\n",
       " ('jl. orde baru', {'entities': [(0, 0, 'POI'), (0, 13, 'street')]}),\n",
       " ('raya samb gede, 299 toko bb kids',\n",
       "  {'entities': [(20, 32, 'POI'), (0, 14, 'street')]}),\n",
       " ('kem mel raya, no 4 bojong rawalumbu rt 1 36 rawalumbu',\n",
       "  {'entities': [(0, 0, 'POI'), (0, 12, 'street')]}),\n",
       " ('tela keuramat kuta alam', {'entities': [(0, 0, 'POI'), (0, 4, 'street')]}),\n",
       " ('gg. i wates magersari', {'entities': [(0, 0, 'POI'), (0, 5, 'street')]}),\n",
       " ('bunga ncole ix 2', {'entities': [(0, 0, 'POI'), (0, 14, 'street')]}),\n",
       " ('cikahuripan sd neg boj 02 klap boj, no 5 16877',\n",
       "  {'entities': [(-1, 18, 'POI'), (26, 34, 'street')]}),\n",
       " ('yaya atohar,', {'entities': [(-1, 17, 'POI'), (0, 0, 'street')]}),\n",
       " ('abim ix 24 5', {'entities': [(0, 0, 'POI'), (0, 7, 'street')]}),\n",
       " ('gang xiii rungkut', {'entities': [(0, 0, 'POI'), (0, 9, 'street')]}),\n",
       " ('kamp utan jaya, 23 rt 3 rw 8 16433 beji',\n",
       "  {'entities': [(0, 0, 'POI'), (0, 0, 'street')]}),\n",
       " ('kampung.gudang areng,desa:anyer, kecamatan:anyar, kabupaten: serang, belakang bca anyar',\n",
       "  {'entities': [(8, 20, 'POI'), (0, 0, 'street')]}),\n",
       " ('maru baru 2 18 marunda rt 13 3 cilincing',\n",
       "  {'entities': [(0, 0, 'POI'), (0, 11, 'street')]}),\n",
       " ('pangkalan lareh kel.ikurkoto koto panjang.kec koto tangah kota padang',\n",
       "  {'entities': [(0, 15, 'POI'), (0, 0, 'street')]}),\n",
       " ('tanah sereal pekap raya 5 rt 9 4 11210 tambora',\n",
       "  {'entities': [(0, 0, 'POI'), (13, 23, 'street')]}),\n",
       " ('tam tama barat v, banyumanik',\n",
       "  {'entities': [(0, 0, 'POI'), (0, 16, 'street')]}),\n",
       " ('toko bang ajs,', {'entities': [(-1, 16, 'POI'), (0, 0, 'street')]}),\n",
       " ('stadion kobelete,', {'entities': [(0, 16, 'POI'), (0, 0, 'street')]}),\n",
       " ('tam asri, gg. 7 16 6 morokrembangan krembangan',\n",
       "  {'entities': [(0, 0, 'POI'), (0, 15, 'street')]}),\n",
       " ('ramb i, pranti', {'entities': [(0, 0, 'POI'), (0, 6, 'street')]}),\n",
       " ('angg raya i, jatinegara cakung',\n",
       "  {'entities': [(0, 0, 'POI'), (0, 0, 'street')]}),\n",
       " ('pondok benda bumi raya, no 9 15416 pamulang',\n",
       "  {'entities': [(0, 0, 'POI'), (13, 22, 'street')]}),\n",
       " ('tajurhalang seta 58 4 16320 tajurhalang',\n",
       "  {'entities': [(0, 0, 'POI'), (12, 16, 'street')]}),\n",
       " ('jln.tirta tawar, br. junjungan, ubud, barat jalan dajan rurung',\n",
       "  {'entities': [(17, 30, 'POI'), (0, 15, 'street')]}),\n",
       " ('sadar i lubang buaya kel. cipayung',\n",
       "  {'entities': [(0, 0, 'POI'), (0, 7, 'street')]}),\n",
       " ('meruya selatan gg. h. juki 59 8 11610 kembangan',\n",
       "  {'entities': [(0, 0, 'POI'), (15, 26, 'street')]}),\n",
       " ('nogos tlogosari kulon pedurungan',\n",
       "  {'entities': [(0, 0, 'POI'), (0, 5, 'street')]}),\n",
       " ('jl. amd, komplek borneo lestari, blok 2, no. 30',\n",
       "  {'entities': [(9, 31, 'POI'), (0, 7, 'street')]}),\n",
       " ('sungai burung raya sege 78351 segedong',\n",
       "  {'entities': [(0, 0, 'POI'), (14, 23, 'street')]}),\n",
       " ('perumahan bayur sarana indah blok j 5 rt :007 001',\n",
       "  {'entities': [(0, 28, 'POI'), (0, 0, 'street')]}),\n",
       " ('gg. per gunung pangilun padang utara',\n",
       "  {'entities': [(0, 0, 'POI'), (0, 7, 'street')]}),\n",
       " ('sal gg. iv dangin puri kaja denpasar utara',\n",
       "  {'entities': [(0, 0, 'POI'), (0, 10, 'street')]}),\n",
       " ('kamp rawa bebek 53 kota baru rt 1 15 bekasi barat',\n",
       "  {'entities': [(0, 0, 'POI'), (0, 15, 'street')]}),\n",
       " ('selam vii 27a', {'entities': [(0, 0, 'POI'), (0, 9, 'street')]}),\n",
       " ('bukit kemuning lin liwa bukit kemuning',\n",
       "  {'entities': [(0, 0, 'POI'), (15, 23, 'street')]}),\n",
       " ('jln raya solok pad selayo kubung',\n",
       "  {'entities': [(0, 0, 'POI'), (0, 18, 'street')]})]"
      ]
     },
     "execution_count": 6,
     "metadata": {},
     "output_type": "execute_result"
    }
   ],
   "source": [
    "training_data[0:40]"
   ]
  },
  {
   "cell_type": "markdown",
   "metadata": {},
   "source": [
    "# Building the Model"
   ]
  },
  {
   "cell_type": "code",
   "execution_count": 7,
   "metadata": {},
   "outputs": [
    {
     "name": "stdout",
     "output_type": "stream",
     "text": [
      "Created blank 'en' model\n"
     ]
    }
   ],
   "source": [
    "# Create the model\n",
    "nlp = spacy.blank('en')  # create blank Language class\n",
    "print(\"Created blank 'en' model\")\n",
    "ner = nlp.create_pipe('ner')\n",
    "nlp.add_pipe(ner)"
   ]
  },
  {
   "cell_type": "code",
   "execution_count": 8,
   "metadata": {},
   "outputs": [],
   "source": [
    "# Add new entity labels to entity recognizer\n",
    "\n",
    "LABEL = ['POI', 'street']\n",
    "\n",
    "for i in LABEL:\n",
    "    ner.add_label(i)\n",
    "    \n",
    "# Inititalizing optimizer\n",
    "nlp.vocab.vectors.name = 'spacy_pretrained_vectors'\n",
    "optimizer = nlp.begin_training()\n"
   ]
  },
  {
   "cell_type": "code",
   "execution_count": null,
   "metadata": {},
   "outputs": [
    {
     "name": "stdout",
     "output_type": "stream",
     "text": [
      "Losses {'ner': 677.0289769749318}\n",
      "Losses {'ner': 351.63775604157865}\n",
      "Losses {'ner': 314.8814412750272}\n",
      "Losses {'ner': 297.9176560843053}\n",
      "Losses {'ner': 286.7003926519788}\n",
      "Losses {'ner': 277.6180079357415}\n",
      "Losses {'ner': 276.82253913640835}\n",
      "Losses {'ner': 273.05797386966077}\n",
      "Losses {'ner': 272.240336209524}\n",
      "Losses {'ner': 266.6980887021742}\n",
      "Losses {'ner': 265.3995578565067}\n"
     ]
    }
   ],
   "source": [
    "# Get names of other pipes to disable them during training to train only NER\n",
    "other_pipes = [pipe for pipe in nlp.pipe_names if pipe != 'ner']\n",
    "with nlp.disable_pipes(*other_pipes):  # only train NER\n",
    "    for itn in range(20):\n",
    "        random.shuffle(training_data)\n",
    "        losses = {}\n",
    "        batches = minibatch(training_data, size=compounding(4., 32., 1.001))\n",
    "        for batch in batches:\n",
    "            texts, annotations = zip(*batch)\n",
    "            nlp.update(texts, annotations, sgd=optimizer, drop=0.60,\n",
    "                       losses=losses)\n",
    "        print('Losses', losses)"
   ]
  },
  {
   "cell_type": "code",
   "execution_count": null,
   "metadata": {},
   "outputs": [],
   "source": [
    "# Save Model"
   ]
  },
  {
   "cell_type": "markdown",
   "metadata": {},
   "source": [
    "# Test some data"
   ]
  },
  {
   "cell_type": "code",
   "execution_count": null,
   "metadata": {},
   "outputs": [],
   "source": [
    "# Test the trained model\n",
    "test_text = 'ngupasan sur 33 gondomanan'\n",
    "doc = nlp(test_text)\n",
    "print(\"Entities in '%s'\" % test_text)\n",
    "for ent in doc.ents:\n",
    "    print(ent.label_, ent.text)"
   ]
  },
  {
   "cell_type": "code",
   "execution_count": null,
   "metadata": {},
   "outputs": [],
   "source": [
    "# Test the trained model\n",
    "test_text = 'sepa raya no 13 periuk rt 1 7 periuk'\n",
    "doc = nlp(test_text)\n",
    "print(\"Entities in '%s'\" % test_text)\n",
    "for ent in doc.ents:\n",
    "    print(ent.label_, ent.text)"
   ]
  },
  {
   "cell_type": "code",
   "execution_count": null,
   "metadata": {},
   "outputs": [],
   "source": [
    "# Test the trained model\n",
    "test_text = 'sd n 1 gumu ahmad yani,'\n",
    "doc = nlp(test_text)\n",
    "print(\"Entities in '%s'\" % test_text)\n",
    "for ent in doc.ents:\n",
    "    print(ent.label_, ent.text)"
   ]
  },
  {
   "cell_type": "code",
   "execution_count": null,
   "metadata": {},
   "outputs": [],
   "source": [
    "# Test the trained model\n",
    "test_text = 'mie ayam bintang, kali rejo wonosobo'\n",
    "doc = nlp(test_text)\n",
    "print(\"Entities in '%s'\" % test_text)\n",
    "for ent in doc.ents:\n",
    "    print(ent.label_, ent.text)"
   ]
  },
  {
   "cell_type": "code",
   "execution_count": null,
   "metadata": {},
   "outputs": [],
   "source": [
    "# Test the trained model (testing data)\n",
    "test_text = 's. par 53 sidanegara 4 cilacap tengah'\n",
    "doc = nlp(test_text)\n",
    "print(\"Entities in '%s'\" % test_text)\n",
    "for ent in doc.ents:\n",
    "    print(ent.label_, ent.text)"
   ]
  },
  {
   "cell_type": "code",
   "execution_count": null,
   "metadata": {},
   "outputs": [],
   "source": [
    "# Test the trained model (testing data)\n",
    "test_text = 'angg per, baloi indah kel. lubuk baja'\n",
    "doc = nlp(test_text)\n",
    "print(\"Entities in '%s'\" % test_text)\n",
    "for ent in doc.ents:\n",
    "    print(ent.label_, ent.text)"
   ]
  },
  {
   "cell_type": "code",
   "execution_count": null,
   "metadata": {},
   "outputs": [],
   "source": [
    "# Test the trained model (testing data)\n",
    "test_text = 'tebet barat tebet barat vi no 12 4 tebet'\n",
    "doc = nlp(test_text)\n",
    "print(\"Entities in '%s'\" % test_text)\n",
    "for ent in doc.ents:\n",
    "    if ent.label_ == 'street':\n",
    "        print(\"STREET\")\n",
    "    print(ent.label_, ent.text)\n",
    "    print(type(ent.label_))\n",
    "    print(type(ent.text))\n",
    "    "
   ]
  },
  {
   "cell_type": "markdown",
   "metadata": {},
   "source": [
    "# Export testing result into submission.csv"
   ]
  },
  {
   "cell_type": "code",
   "execution_count": null,
   "metadata": {},
   "outputs": [],
   "source": [
    "# read file\n",
    "df_test = pd.read_csv(\"test.csv\")"
   ]
  },
  {
   "cell_type": "code",
   "execution_count": null,
   "metadata": {},
   "outputs": [],
   "source": [
    "df_test.head()"
   ]
  },
  {
   "cell_type": "code",
   "execution_count": null,
   "metadata": {},
   "outputs": [],
   "source": [
    "df_test['POI'] = ''\n",
    "df_test['street'] = ''"
   ]
  },
  {
   "cell_type": "code",
   "execution_count": null,
   "metadata": {},
   "outputs": [],
   "source": [
    "df_test.head()"
   ]
  },
  {
   "cell_type": "code",
   "execution_count": null,
   "metadata": {
    "scrolled": true
   },
   "outputs": [],
   "source": [
    "for i in df_test.index:\n",
    "    if i < len(df_test):\n",
    "        raw_address = df_test['raw_address'][i]\n",
    "        doc = nlp(raw_address)    \n",
    "        \n",
    "        for ent in doc.ents:\n",
    "            if ent.label_ == 'POI':\n",
    "                print(ent.label_, ent.text)\n",
    "                df_test['POI'][i] = df_test['POI'][i] + ent.text\n",
    "            if ent.label_ == 'street':\n",
    "                print(ent.label_, ent.text)\n",
    "                df_test['street'][i] = df_test['street'][i] + ent.text\n",
    "            #print(ent.label_, ent.text)"
   ]
  },
  {
   "cell_type": "code",
   "execution_count": null,
   "metadata": {},
   "outputs": [],
   "source": [
    "df_test.head(20)"
   ]
  },
  {
   "cell_type": "code",
   "execution_count": null,
   "metadata": {},
   "outputs": [],
   "source": [
    "df_submission = df_test.copy()"
   ]
  },
  {
   "cell_type": "code",
   "execution_count": null,
   "metadata": {},
   "outputs": [],
   "source": [
    "df_submission.head(20)"
   ]
  },
  {
   "cell_type": "code",
   "execution_count": null,
   "metadata": {},
   "outputs": [],
   "source": [
    "df_submission['POI/street'] = df_submission[['POI', 'street']].agg('/'.join, axis=1)"
   ]
  },
  {
   "cell_type": "code",
   "execution_count": null,
   "metadata": {},
   "outputs": [],
   "source": [
    "del df_submission['raw_address']\n",
    "del df_submission['street']\n",
    "del df_submission['POI']"
   ]
  },
  {
   "cell_type": "code",
   "execution_count": null,
   "metadata": {},
   "outputs": [],
   "source": [
    "df_submission.head(20)"
   ]
  },
  {
   "cell_type": "code",
   "execution_count": null,
   "metadata": {},
   "outputs": [],
   "source": [
    "df_submission.to_csv('submission21.csv', index=False)"
   ]
  }
 ],
 "metadata": {
  "kernelspec": {
   "display_name": "Python 3",
   "language": "python",
   "name": "python3"
  },
  "language_info": {
   "codemirror_mode": {
    "name": "ipython",
    "version": 3
   },
   "file_extension": ".py",
   "mimetype": "text/x-python",
   "name": "python",
   "nbconvert_exporter": "python",
   "pygments_lexer": "ipython3",
   "version": "3.6.12"
  }
 },
 "nbformat": 4,
 "nbformat_minor": 4
}
